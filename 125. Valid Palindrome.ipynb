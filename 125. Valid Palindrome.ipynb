{
 "cells": [
  {
   "cell_type": "code",
   "execution_count": 25,
   "metadata": {},
   "outputs": [],
   "source": [
    "def isPalindrome(s):\n",
    "    if(s == None or len(s) ==0 ):\n",
    "        return True\n",
    "    left = 0\n",
    "    right = len(s) - 1\n",
    "    while(left < right):\n",
    "        while(left <right and not (s[left].isalnum())):\n",
    "            print(s[left])\n",
    "            left = left + 1\n",
    "            print(\"inner left:\", left)\n",
    "        while(left<right and not (s[right].isalnum())):\n",
    "            print(s[right])\n",
    "            right = right - 1\n",
    "            print(\"inner right:\", right)\n",
    "        if(s[left].lower() != s[right].lower()):\n",
    "            print(\"exit\")\n",
    "            return False\n",
    "        left = left + 1\n",
    "        right = right - 1 \n",
    "        print(\"outer left:\", left)\n",
    "        print(\"outer right:\", right)\n",
    "    return True"
   ]
  },
  {
   "cell_type": "code",
   "execution_count": 26,
   "metadata": {},
   "outputs": [
    {
     "name": "stdout",
     "output_type": "stream",
     "text": [
      "outer left: 1\n",
      "outer right: 28\n",
      " \n",
      "inner left: 2\n",
      "outer left: 3\n",
      "outer right: 27\n",
      "outer left: 4\n",
      "outer right: 26\n",
      "outer left: 5\n",
      "outer right: 25\n",
      ",\n",
      "inner left: 6\n",
      " \n",
      "inner left: 7\n",
      "outer left: 8\n",
      "outer right: 24\n",
      " \n",
      "inner left: 9\n",
      "outer left: 10\n",
      "outer right: 23\n",
      " \n",
      "inner right: 22\n",
      ":\n",
      "inner right: 21\n",
      "outer left: 11\n",
      "outer right: 20\n",
      "outer left: 12\n",
      "outer right: 19\n",
      "outer left: 13\n",
      "outer right: 18\n",
      ",\n",
      "inner left: 14\n",
      " \n",
      "inner left: 15\n",
      "outer left: 16\n",
      "outer right: 17\n",
      " \n",
      "inner left: 17\n",
      "outer left: 18\n",
      "outer right: 16\n"
     ]
    },
    {
     "data": {
      "text/plain": [
       "True"
      ]
     },
     "execution_count": 26,
     "metadata": {},
     "output_type": "execute_result"
    }
   ],
   "source": [
    "isPalindrome(\"A man, a plan, a canal: Panama\")"
   ]
  },
  {
   "cell_type": "code",
   "execution_count": 27,
   "metadata": {},
   "outputs": [
    {
     "name": "stdout",
     "output_type": "stream",
     "text": [
      "outer left: 1\n",
      "outer right: 8\n",
      "outer left: 2\n",
      "outer right: 7\n",
      "outer left: 3\n",
      "outer right: 6\n",
      " \n",
      "inner right: 5\n",
      "exit\n"
     ]
    },
    {
     "data": {
      "text/plain": [
       "False"
      ]
     },
     "execution_count": 27,
     "metadata": {},
     "output_type": "execute_result"
    }
   ],
   "source": [
    "isPalindrome(\"race a car\")"
   ]
  },
  {
   "cell_type": "code",
   "execution_count": null,
   "metadata": {
    "collapsed": true
   },
   "outputs": [],
   "source": []
  }
 ],
 "metadata": {
  "kernelspec": {
   "display_name": "Python 3",
   "language": "python",
   "name": "python3"
  },
  "language_info": {
   "codemirror_mode": {
    "name": "ipython",
    "version": 3
   },
   "file_extension": ".py",
   "mimetype": "text/x-python",
   "name": "python",
   "nbconvert_exporter": "python",
   "pygments_lexer": "ipython3",
   "version": "3.6.3"
  }
 },
 "nbformat": 4,
 "nbformat_minor": 2
}
